{
 "cells": [
  {
   "cell_type": "markdown",
   "id": "d09eb369",
   "metadata": {},
   "source": [
    "# Proyecto Final\n",
    "Desarrollo de un Modelo de Predicción de Tasa de la Cancelación de Clientes para la empresa Interconnect"
   ]
  },
  {
   "cell_type": "markdown",
   "id": "b3ede66a",
   "metadata": {},
   "source": [
    "# Introducción\n",
    " \n",
    "Interconnect, operador en el sector de telecomunicaciones, busca optimizar sus estrategias de retención de clientes mediante la implementación de un modelo de analítica predictiva. En particular, el objetivo es anticipar la cancelación de contratos por parte de los usuarios, lo cual permitirá a la compañía actuar proactivamente a través de ofertas personalizadas, promociones o ajustes en sus planes comerciales.\n",
    "\n",
    "Para ello, se ha planteado el desarrollo de un modelo de clasificación binaria que, a partir del análisis del comportamiento histórico de los clientes, identifique aquellos con mayor probabilidad de abandonar la compañía.\n",
    " \n",
    "El objetivo principal de este análisis es construir un modelo de predicción que maximice la capacidad de detección de cancelaciones con base en información disponible. La selección del modelo óptimo se basará en su desempeño, siendo la métrica principal el AUC-ROC, debido a su capacidad para evaluar la discriminación entre clases. Esta métrica será complementada con otras como la exactitud (accuracy) para brindar una visión integral del rendimiento del modelo."
   ]
  },
  {
   "cell_type": "markdown",
   "id": "e03f3c32",
   "metadata": {},
   "source": [
    "# Inicialización"
   ]
  },
  {
   "cell_type": "code",
   "execution_count": 1,
   "id": "a1d3b5bf",
   "metadata": {},
   "outputs": [],
   "source": [
    "# Librerias\n",
    "\n",
    "import warnings\n",
    "# Suppress all FutureWarnings\n",
    "warnings.simplefilter(action='ignore', category=FutureWarning)\n",
    "import pandas as pd\n",
    "import numpy as np\n",
    "\n",
    "import matplotlib.pyplot as plt\n",
    "import seaborn as sns\n",
    "\n",
    "from sklearn.model_selection import train_test_split\n",
    "from sklearn.ensemble import RandomForestRegressor\n",
    "from sklearn.model_selection import train_test_split\n",
    "from sklearn.metrics import make_scorer\n",
    "from sklearn.model_selection import cross_val_score\n",
    "from sklearn.datasets import make_regression\n",
    "from sklearn.preprocessing import StandardScaler\n",
    "from sklearn.linear_model import LogisticRegression\n",
    "from sklearn.metrics import classification_report, confusion_matrix, roc_auc_score\n",
    "from sklearn.utils import resample\n",
    "\n",
    "from sklearn.ensemble import RandomForestClassifier\n",
    "from xgboost import XGBClassifier\n",
    "from catboost import CatBoostClassifier\n",
    "from lightgbm import LGBMClassifier\n"
   ]
  },
  {
   "cell_type": "markdown",
   "id": "8fe982b8",
   "metadata": {},
   "source": [
    "# Carga de archivos\n",
    " \n",
    "Descripción de los archivos proporcionados con los cuales vamos a trabajar:\n",
    " \n",
    " - `contract.csv`: información del contrato.\n",
    " - `personal.csv`: datos personales del cliente.\n",
    " - `internet.csv`: información sobre los servicios de Internet.\n",
    " - `phone.csv`: información sobre los servicios telefónicos."
   ]
  },
  {
   "cell_type": "code",
   "execution_count": 2,
   "id": "2e2e7ae4",
   "metadata": {},
   "outputs": [],
   "source": [
    "df_contract = pd.read_csv('/datasets/final_provider/contract.csv')\n",
    "df_personal = pd.read_csv('/datasets/final_provider/personal.csv')\n",
    "df_internet = pd.read_csv('/datasets/final_provider/internet.csv')\n",
    "df_phone = pd.read_csv('/datasets/final_provider/phone.csv')\n"
   ]
  },
  {
   "cell_type": "markdown",
   "id": "99af5500",
   "metadata": {},
   "source": [
    "# Análisis Exploratorio de Datos de df_contract\n",
    " \n",
    "Con el objetivo de garantizar la calidad y consistencia de la información disponible, se lleva a cabo una fase inicial de análisis exploratorio de datos. Esta etapa permite validar la estructura del conjunto de datos y detectar posibles inconsistencias que puedan afectar el desarrollo del modelo predictivo.\n",
    " \n",
    "Para ello, se utilizarán funciones estándar de la biblioteca `pandas`, tales como:\n",
    " \n",
    " - `sample()` – para obtener una vista preliminar de observaciones aleatorias del dataset y comprender su estructura general.  \n",
    " - `info()` – para revisar los tipos de datos, la integridad de las columnas y la presencia de valores nulos.  \n",
    " - `describe()` – para generar estadísticas descriptivas que permitan evaluar la distribución y comportamiento de las variables numéricas.\n",
    " \n",
    "Este análisis preliminar es fundamental para identificar si se requieren acciones adicionales de limpieza, transformación o imputación de datos antes de avanzar hacia las etapas de preprocesamiento y modelado. Una vez depurados, los distintos conjuntos de datos serán integrados en un único dataset maestro que consolide la información relevante por cliente, habilitando así una base sólida para el entrenamiento del modelo de predicción."
   ]
  },
  {
   "cell_type": "code",
   "execution_count": 3,
   "id": "6d15acef",
   "metadata": {},
   "outputs": [
    {
     "data": {
      "text/html": [
       "<div>\n",
       "<style scoped>\n",
       "    .dataframe tbody tr th:only-of-type {\n",
       "        vertical-align: middle;\n",
       "    }\n",
       "\n",
       "    .dataframe tbody tr th {\n",
       "        vertical-align: top;\n",
       "    }\n",
       "\n",
       "    .dataframe thead th {\n",
       "        text-align: right;\n",
       "    }\n",
       "</style>\n",
       "<table border=\"1\" class=\"dataframe\">\n",
       "  <thead>\n",
       "    <tr style=\"text-align: right;\">\n",
       "      <th></th>\n",
       "      <th>customerID</th>\n",
       "      <th>BeginDate</th>\n",
       "      <th>EndDate</th>\n",
       "      <th>Type</th>\n",
       "      <th>PaperlessBilling</th>\n",
       "      <th>PaymentMethod</th>\n",
       "      <th>MonthlyCharges</th>\n",
       "      <th>TotalCharges</th>\n",
       "    </tr>\n",
       "  </thead>\n",
       "  <tbody>\n",
       "    <tr>\n",
       "      <th>0</th>\n",
       "      <td>7590-VHVEG</td>\n",
       "      <td>2020-01-01</td>\n",
       "      <td>No</td>\n",
       "      <td>Month-to-month</td>\n",
       "      <td>Yes</td>\n",
       "      <td>Electronic check</td>\n",
       "      <td>29.85</td>\n",
       "      <td>29.85</td>\n",
       "    </tr>\n",
       "    <tr>\n",
       "      <th>1</th>\n",
       "      <td>5575-GNVDE</td>\n",
       "      <td>2017-04-01</td>\n",
       "      <td>No</td>\n",
       "      <td>One year</td>\n",
       "      <td>No</td>\n",
       "      <td>Mailed check</td>\n",
       "      <td>56.95</td>\n",
       "      <td>1889.5</td>\n",
       "    </tr>\n",
       "    <tr>\n",
       "      <th>2</th>\n",
       "      <td>3668-QPYBK</td>\n",
       "      <td>2019-10-01</td>\n",
       "      <td>2019-12-01 00:00:00</td>\n",
       "      <td>Month-to-month</td>\n",
       "      <td>Yes</td>\n",
       "      <td>Mailed check</td>\n",
       "      <td>53.85</td>\n",
       "      <td>108.15</td>\n",
       "    </tr>\n",
       "    <tr>\n",
       "      <th>3</th>\n",
       "      <td>7795-CFOCW</td>\n",
       "      <td>2016-05-01</td>\n",
       "      <td>No</td>\n",
       "      <td>One year</td>\n",
       "      <td>No</td>\n",
       "      <td>Bank transfer (automatic)</td>\n",
       "      <td>42.30</td>\n",
       "      <td>1840.75</td>\n",
       "    </tr>\n",
       "    <tr>\n",
       "      <th>4</th>\n",
       "      <td>9237-HQITU</td>\n",
       "      <td>2019-09-01</td>\n",
       "      <td>2019-11-01 00:00:00</td>\n",
       "      <td>Month-to-month</td>\n",
       "      <td>Yes</td>\n",
       "      <td>Electronic check</td>\n",
       "      <td>70.70</td>\n",
       "      <td>151.65</td>\n",
       "    </tr>\n",
       "  </tbody>\n",
       "</table>\n",
       "</div>"
      ],
      "text/plain": [
       "   customerID   BeginDate              EndDate            Type  \\\n",
       "0  7590-VHVEG  2020-01-01                   No  Month-to-month   \n",
       "1  5575-GNVDE  2017-04-01                   No        One year   \n",
       "2  3668-QPYBK  2019-10-01  2019-12-01 00:00:00  Month-to-month   \n",
       "3  7795-CFOCW  2016-05-01                   No        One year   \n",
       "4  9237-HQITU  2019-09-01  2019-11-01 00:00:00  Month-to-month   \n",
       "\n",
       "  PaperlessBilling              PaymentMethod  MonthlyCharges TotalCharges  \n",
       "0              Yes           Electronic check           29.85        29.85  \n",
       "1               No               Mailed check           56.95       1889.5  \n",
       "2              Yes               Mailed check           53.85       108.15  \n",
       "3               No  Bank transfer (automatic)           42.30      1840.75  \n",
       "4              Yes           Electronic check           70.70       151.65  "
      ]
     },
     "execution_count": 3,
     "metadata": {},
     "output_type": "execute_result"
    }
   ],
   "source": [
    "df_contract.head()"
   ]
  },
  {
   "cell_type": "code",
   "execution_count": 4,
   "id": "04e93b1e",
   "metadata": {},
   "outputs": [
    {
     "name": "stdout",
     "output_type": "stream",
     "text": [
      "<class 'pandas.core.frame.DataFrame'>\n",
      "RangeIndex: 7043 entries, 0 to 7042\n",
      "Data columns (total 8 columns):\n",
      " #   Column            Non-Null Count  Dtype  \n",
      "---  ------            --------------  -----  \n",
      " 0   customerID        7043 non-null   object \n",
      " 1   BeginDate         7043 non-null   object \n",
      " 2   EndDate           7043 non-null   object \n",
      " 3   Type              7043 non-null   object \n",
      " 4   PaperlessBilling  7043 non-null   object \n",
      " 5   PaymentMethod     7043 non-null   object \n",
      " 6   MonthlyCharges    7043 non-null   float64\n",
      " 7   TotalCharges      7043 non-null   object \n",
      "dtypes: float64(1), object(7)\n",
      "memory usage: 440.3+ KB\n"
     ]
    }
   ],
   "source": [
    "df_contract.info()"
   ]
  },
  {
   "cell_type": "markdown",
   "id": "2abe1569",
   "metadata": {},
   "source": [
    "<div class=\"alert alert-block alert-warning\">\n",
    "<b>Celda [4]</b> <a class=\"tocSkip\"></a><br>\n",
    "La columna 'TotalCharges' se cargó inicialmente como 'object' en lugar de 'float'. Aunque corregiste esto más adelante, es fundamental revisar y ajustar los tipos de datos justo después de cargar el dataset para evitar problemas en cálculos posteriores.\n",
    "</div>\n"
   ]
  },
  {
   "cell_type": "code",
   "execution_count": 5,
   "id": "dfac2a51",
   "metadata": {},
   "outputs": [
    {
     "data": {
      "text/html": [
       "<div>\n",
       "<style scoped>\n",
       "    .dataframe tbody tr th:only-of-type {\n",
       "        vertical-align: middle;\n",
       "    }\n",
       "\n",
       "    .dataframe tbody tr th {\n",
       "        vertical-align: top;\n",
       "    }\n",
       "\n",
       "    .dataframe thead th {\n",
       "        text-align: right;\n",
       "    }\n",
       "</style>\n",
       "<table border=\"1\" class=\"dataframe\">\n",
       "  <thead>\n",
       "    <tr style=\"text-align: right;\">\n",
       "      <th></th>\n",
       "      <th>MonthlyCharges</th>\n",
       "    </tr>\n",
       "  </thead>\n",
       "  <tbody>\n",
       "    <tr>\n",
       "      <th>count</th>\n",
       "      <td>7043.000000</td>\n",
       "    </tr>\n",
       "    <tr>\n",
       "      <th>mean</th>\n",
       "      <td>64.761692</td>\n",
       "    </tr>\n",
       "    <tr>\n",
       "      <th>std</th>\n",
       "      <td>30.090047</td>\n",
       "    </tr>\n",
       "    <tr>\n",
       "      <th>min</th>\n",
       "      <td>18.250000</td>\n",
       "    </tr>\n",
       "    <tr>\n",
       "      <th>25%</th>\n",
       "      <td>35.500000</td>\n",
       "    </tr>\n",
       "    <tr>\n",
       "      <th>50%</th>\n",
       "      <td>70.350000</td>\n",
       "    </tr>\n",
       "    <tr>\n",
       "      <th>75%</th>\n",
       "      <td>89.850000</td>\n",
       "    </tr>\n",
       "    <tr>\n",
       "      <th>max</th>\n",
       "      <td>118.750000</td>\n",
       "    </tr>\n",
       "  </tbody>\n",
       "</table>\n",
       "</div>"
      ],
      "text/plain": [
       "       MonthlyCharges\n",
       "count     7043.000000\n",
       "mean        64.761692\n",
       "std         30.090047\n",
       "min         18.250000\n",
       "25%         35.500000\n",
       "50%         70.350000\n",
       "75%         89.850000\n",
       "max        118.750000"
      ]
     },
     "execution_count": 5,
     "metadata": {},
     "output_type": "execute_result"
    }
   ],
   "source": [
    "df_contract.describe()"
   ]
  },
  {
   "cell_type": "markdown",
   "id": "db5326d4",
   "metadata": {},
   "source": [
    "# Limpieza de df_contract\n",
    "Con base al EDA y a buenas practicas, se realizarán los siguientes pasos:\n",
    " \n",
    " - Cambiar los nombres de las columnas a minúsculas y con formato snake_case para estandarizar.\n",
    " - Corregir los tipos de datos en las columnas:\n",
    "   - Columnas de fechas (`begindate` y `enddate`) al formato datetime.\n",
    "   - Columna `totalcharges` a tipo numérico (float).\n",
    " - Verificar la presencia de registros duplicados.\n"
   ]
  },
  {
   "cell_type": "code",
   "execution_count": 6,
   "id": "ea67dbe6",
   "metadata": {},
   "outputs": [
    {
     "data": {
      "text/plain": [
       "Index(['customer_id', 'begin_date', 'end_date', 'type', 'paperless_billing',\n",
       "       'payment_method', 'monthly_charges', 'total_charges'],\n",
       "      dtype='object')"
      ]
     },
     "execution_count": 6,
     "metadata": {},
     "output_type": "execute_result"
    }
   ],
   "source": [
    "#función para la conversión de nombres de columnas a minisculas con formato snake_case\n",
    "\n",
    "def column_snake_case(df):\n",
    "    df.columns = (\n",
    "        df.columns\n",
    "        .str.replace(r'([a-z])([A-Z])', r'\\1_\\2', regex=True)\n",
    "        .str.lower()\n",
    "    )\n",
    "    return df\n",
    "\n",
    "column_snake_case(df_contract)\n",
    "\n",
    "# corroborar el nombre de las funciones\n",
    "df_contract.columns"
   ]
  },
  {
   "cell_type": "code",
   "execution_count": 7,
   "id": "b0ef1957",
   "metadata": {},
   "outputs": [
    {
     "data": {
      "text/plain": [
       "begin_date    datetime64[ns]\n",
       "end_date      datetime64[ns]\n",
       "dtype: object"
      ]
     },
     "execution_count": 7,
     "metadata": {},
     "output_type": "execute_result"
    }
   ],
   "source": [
    "# conversión de las columnas 'begin_date y end_date' al formato datetime\n",
    "df_contract['begin_date'] = pd.to_datetime(df_contract['begin_date'], errors='coerce')\n",
    "df_contract['end_date'] = pd.to_datetime(df_contract['end_date'], errors='coerce')\n",
    "\n",
    "df_contract[['begin_date', 'end_date']].dtypes"
   ]
  },
  {
   "cell_type": "code",
   "execution_count": 8,
   "id": "b41c61e8",
   "metadata": {},
   "outputs": [
    {
     "data": {
      "text/plain": [
       "total_charges    float64\n",
       "dtype: object"
      ]
     },
     "execution_count": 8,
     "metadata": {},
     "output_type": "execute_result"
    }
   ],
   "source": [
    "# conversión de 'total_charges' a tipo númerico.\n",
    "df_contract['total_charges'] = pd.to_numeric(df_contract['total_charges'], errors='coerce')\n",
    "\n",
    "# corroborar el cambio\n",
    "df_contract[['total_charges']].dtypes"
   ]
  },
  {
   "cell_type": "code",
   "execution_count": 9,
   "id": "36c30bfe",
   "metadata": {},
   "outputs": [
    {
     "name": "stdout",
     "output_type": "stream",
     "text": [
      "customer_id             0\n",
      "begin_date              0\n",
      "end_date             5174\n",
      "type                    0\n",
      "paperless_billing       0\n",
      "payment_method          0\n",
      "monthly_charges         0\n",
      "total_charges          11\n",
      "dtype: int64\n"
     ]
    }
   ],
   "source": [
    "# validación de datos nulos (NAN)\n",
    "print(df_contract.isnull().sum())"
   ]
  },
  {
   "cell_type": "markdown",
   "id": "a42a6c30",
   "metadata": {},
   "source": [
    "Observamos que existen 5174 valores nulos, sin embargo, son clientes activos. Más adelante esta columna se convertira en una columna binaria para identificar activos y bajas."
   ]
  },
  {
   "cell_type": "code",
   "execution_count": 10,
   "id": "91d0742e",
   "metadata": {},
   "outputs": [
    {
     "data": {
      "text/html": [
       "<div>\n",
       "<style scoped>\n",
       "    .dataframe tbody tr th:only-of-type {\n",
       "        vertical-align: middle;\n",
       "    }\n",
       "\n",
       "    .dataframe tbody tr th {\n",
       "        vertical-align: top;\n",
       "    }\n",
       "\n",
       "    .dataframe thead th {\n",
       "        text-align: right;\n",
       "    }\n",
       "</style>\n",
       "<table border=\"1\" class=\"dataframe\">\n",
       "  <thead>\n",
       "    <tr style=\"text-align: right;\">\n",
       "      <th></th>\n",
       "      <th>customer_id</th>\n",
       "      <th>begin_date</th>\n",
       "      <th>end_date</th>\n",
       "      <th>type</th>\n",
       "      <th>paperless_billing</th>\n",
       "      <th>payment_method</th>\n",
       "      <th>monthly_charges</th>\n",
       "      <th>total_charges</th>\n",
       "    </tr>\n",
       "  </thead>\n",
       "  <tbody>\n",
       "    <tr>\n",
       "      <th>488</th>\n",
       "      <td>4472-LVYGI</td>\n",
       "      <td>2020-02-01</td>\n",
       "      <td>NaT</td>\n",
       "      <td>Two year</td>\n",
       "      <td>Yes</td>\n",
       "      <td>Bank transfer (automatic)</td>\n",
       "      <td>52.55</td>\n",
       "      <td>NaN</td>\n",
       "    </tr>\n",
       "    <tr>\n",
       "      <th>753</th>\n",
       "      <td>3115-CZMZD</td>\n",
       "      <td>2020-02-01</td>\n",
       "      <td>NaT</td>\n",
       "      <td>Two year</td>\n",
       "      <td>No</td>\n",
       "      <td>Mailed check</td>\n",
       "      <td>20.25</td>\n",
       "      <td>NaN</td>\n",
       "    </tr>\n",
       "    <tr>\n",
       "      <th>936</th>\n",
       "      <td>5709-LVOEQ</td>\n",
       "      <td>2020-02-01</td>\n",
       "      <td>NaT</td>\n",
       "      <td>Two year</td>\n",
       "      <td>No</td>\n",
       "      <td>Mailed check</td>\n",
       "      <td>80.85</td>\n",
       "      <td>NaN</td>\n",
       "    </tr>\n",
       "    <tr>\n",
       "      <th>1082</th>\n",
       "      <td>4367-NUYAO</td>\n",
       "      <td>2020-02-01</td>\n",
       "      <td>NaT</td>\n",
       "      <td>Two year</td>\n",
       "      <td>No</td>\n",
       "      <td>Mailed check</td>\n",
       "      <td>25.75</td>\n",
       "      <td>NaN</td>\n",
       "    </tr>\n",
       "    <tr>\n",
       "      <th>1340</th>\n",
       "      <td>1371-DWPAZ</td>\n",
       "      <td>2020-02-01</td>\n",
       "      <td>NaT</td>\n",
       "      <td>Two year</td>\n",
       "      <td>No</td>\n",
       "      <td>Credit card (automatic)</td>\n",
       "      <td>56.05</td>\n",
       "      <td>NaN</td>\n",
       "    </tr>\n",
       "    <tr>\n",
       "      <th>3331</th>\n",
       "      <td>7644-OMVMY</td>\n",
       "      <td>2020-02-01</td>\n",
       "      <td>NaT</td>\n",
       "      <td>Two year</td>\n",
       "      <td>No</td>\n",
       "      <td>Mailed check</td>\n",
       "      <td>19.85</td>\n",
       "      <td>NaN</td>\n",
       "    </tr>\n",
       "    <tr>\n",
       "      <th>3826</th>\n",
       "      <td>3213-VVOLG</td>\n",
       "      <td>2020-02-01</td>\n",
       "      <td>NaT</td>\n",
       "      <td>Two year</td>\n",
       "      <td>No</td>\n",
       "      <td>Mailed check</td>\n",
       "      <td>25.35</td>\n",
       "      <td>NaN</td>\n",
       "    </tr>\n",
       "    <tr>\n",
       "      <th>4380</th>\n",
       "      <td>2520-SGTTA</td>\n",
       "      <td>2020-02-01</td>\n",
       "      <td>NaT</td>\n",
       "      <td>Two year</td>\n",
       "      <td>No</td>\n",
       "      <td>Mailed check</td>\n",
       "      <td>20.00</td>\n",
       "      <td>NaN</td>\n",
       "    </tr>\n",
       "    <tr>\n",
       "      <th>5218</th>\n",
       "      <td>2923-ARZLG</td>\n",
       "      <td>2020-02-01</td>\n",
       "      <td>NaT</td>\n",
       "      <td>One year</td>\n",
       "      <td>Yes</td>\n",
       "      <td>Mailed check</td>\n",
       "      <td>19.70</td>\n",
       "      <td>NaN</td>\n",
       "    </tr>\n",
       "    <tr>\n",
       "      <th>6670</th>\n",
       "      <td>4075-WKNIU</td>\n",
       "      <td>2020-02-01</td>\n",
       "      <td>NaT</td>\n",
       "      <td>Two year</td>\n",
       "      <td>No</td>\n",
       "      <td>Mailed check</td>\n",
       "      <td>73.35</td>\n",
       "      <td>NaN</td>\n",
       "    </tr>\n",
       "    <tr>\n",
       "      <th>6754</th>\n",
       "      <td>2775-SEFEE</td>\n",
       "      <td>2020-02-01</td>\n",
       "      <td>NaT</td>\n",
       "      <td>Two year</td>\n",
       "      <td>Yes</td>\n",
       "      <td>Bank transfer (automatic)</td>\n",
       "      <td>61.90</td>\n",
       "      <td>NaN</td>\n",
       "    </tr>\n",
       "  </tbody>\n",
       "</table>\n",
       "</div>"
      ],
      "text/plain": [
       "     customer_id begin_date end_date      type paperless_billing  \\\n",
       "488   4472-LVYGI 2020-02-01      NaT  Two year               Yes   \n",
       "753   3115-CZMZD 2020-02-01      NaT  Two year                No   \n",
       "936   5709-LVOEQ 2020-02-01      NaT  Two year                No   \n",
       "1082  4367-NUYAO 2020-02-01      NaT  Two year                No   \n",
       "1340  1371-DWPAZ 2020-02-01      NaT  Two year                No   \n",
       "3331  7644-OMVMY 2020-02-01      NaT  Two year                No   \n",
       "3826  3213-VVOLG 2020-02-01      NaT  Two year                No   \n",
       "4380  2520-SGTTA 2020-02-01      NaT  Two year                No   \n",
       "5218  2923-ARZLG 2020-02-01      NaT  One year               Yes   \n",
       "6670  4075-WKNIU 2020-02-01      NaT  Two year                No   \n",
       "6754  2775-SEFEE 2020-02-01      NaT  Two year               Yes   \n",
       "\n",
       "                 payment_method  monthly_charges  total_charges  \n",
       "488   Bank transfer (automatic)            52.55            NaN  \n",
       "753                Mailed check            20.25            NaN  \n",
       "936                Mailed check            80.85            NaN  \n",
       "1082               Mailed check            25.75            NaN  \n",
       "1340    Credit card (automatic)            56.05            NaN  \n",
       "3331               Mailed check            19.85            NaN  \n",
       "3826               Mailed check            25.35            NaN  \n",
       "4380               Mailed check            20.00            NaN  \n",
       "5218               Mailed check            19.70            NaN  \n",
       "6670               Mailed check            73.35            NaN  \n",
       "6754  Bank transfer (automatic)            61.90            NaN  "
      ]
     },
     "execution_count": 10,
     "metadata": {},
     "output_type": "execute_result"
    }
   ],
   "source": [
    "# vamos a analizar los valores nulos en 'total_charges' para decidir cómo imputarlos.\n",
    "df_contract[df_contract['total_charges'].isnull()]"
   ]
  },
  {
   "cell_type": "markdown",
   "id": "e3db7ec2",
   "metadata": {},
   "source": [
    "Podemos observar que los datos nulos en la columna `total_charges` corresponden a clientes que recién comenzaron su contrato con la compañía, por lo que aún no tienen un importe facturado. Por este motivo, se imputarán con 0."
   ]
  },
  {
   "cell_type": "code",
   "execution_count": 11,
   "id": "95e01afb",
   "metadata": {},
   "outputs": [
    {
     "data": {
      "text/plain": [
       "0"
      ]
     },
     "execution_count": 11,
     "metadata": {},
     "output_type": "execute_result"
    }
   ],
   "source": [
    "# imputar valores NAN con 0 en columna 'total_charges'\n",
    "df_contract['total_charges'] = df_contract['total_charges'].fillna(0)\n",
    "\n",
    "# corroborar que ya no haya NAN\n",
    "df_contract['total_charges'].isnull().sum()"
   ]
  },
  {
   "cell_type": "code",
   "execution_count": 12,
   "id": "c9ace2e1",
   "metadata": {},
   "outputs": [
    {
     "data": {
      "text/plain": [
       "0"
      ]
     },
     "execution_count": 12,
     "metadata": {},
     "output_type": "execute_result"
    }
   ],
   "source": [
    "# validación de duplicados\n",
    "df_contract.duplicated().sum()"
   ]
  },
  {
   "cell_type": "markdown",
   "id": "821ccb54",
   "metadata": {},
   "source": [
    "**Con todo esto, dejamos df_contract limpio y listo para integrarse posteriormente con los demás datasets.**"
   ]
  },
  {
   "cell_type": "markdown",
   "id": "b9e19525",
   "metadata": {},
   "source": [
    "# Análisis Exploratorio de Datos de df_personal"
   ]
  },
  {
   "cell_type": "code",
   "execution_count": 13,
   "id": "b9e96ba7",
   "metadata": {},
   "outputs": [
    {
     "data": {
      "text/html": [
       "<div>\n",
       "<style scoped>\n",
       "    .dataframe tbody tr th:only-of-type {\n",
       "        vertical-align: middle;\n",
       "    }\n",
       "\n",
       "    .dataframe tbody tr th {\n",
       "        vertical-align: top;\n",
       "    }\n",
       "\n",
       "    .dataframe thead th {\n",
       "        text-align: right;\n",
       "    }\n",
       "</style>\n",
       "<table border=\"1\" class=\"dataframe\">\n",
       "  <thead>\n",
       "    <tr style=\"text-align: right;\">\n",
       "      <th></th>\n",
       "      <th>customerID</th>\n",
       "      <th>gender</th>\n",
       "      <th>SeniorCitizen</th>\n",
       "      <th>Partner</th>\n",
       "      <th>Dependents</th>\n",
       "    </tr>\n",
       "  </thead>\n",
       "  <tbody>\n",
       "    <tr>\n",
       "      <th>790</th>\n",
       "      <td>7131-ZQZNK</td>\n",
       "      <td>Female</td>\n",
       "      <td>0</td>\n",
       "      <td>Yes</td>\n",
       "      <td>Yes</td>\n",
       "    </tr>\n",
       "    <tr>\n",
       "      <th>3942</th>\n",
       "      <td>6959-UWKHF</td>\n",
       "      <td>Male</td>\n",
       "      <td>0</td>\n",
       "      <td>No</td>\n",
       "      <td>No</td>\n",
       "    </tr>\n",
       "    <tr>\n",
       "      <th>5944</th>\n",
       "      <td>5995-OIGLP</td>\n",
       "      <td>Male</td>\n",
       "      <td>0</td>\n",
       "      <td>No</td>\n",
       "      <td>No</td>\n",
       "    </tr>\n",
       "    <tr>\n",
       "      <th>1144</th>\n",
       "      <td>0841-NULXI</td>\n",
       "      <td>Male</td>\n",
       "      <td>0</td>\n",
       "      <td>No</td>\n",
       "      <td>No</td>\n",
       "    </tr>\n",
       "    <tr>\n",
       "      <th>1027</th>\n",
       "      <td>6732-FZUGP</td>\n",
       "      <td>Female</td>\n",
       "      <td>0</td>\n",
       "      <td>No</td>\n",
       "      <td>No</td>\n",
       "    </tr>\n",
       "  </tbody>\n",
       "</table>\n",
       "</div>"
      ],
      "text/plain": [
       "      customerID  gender  SeniorCitizen Partner Dependents\n",
       "790   7131-ZQZNK  Female              0     Yes        Yes\n",
       "3942  6959-UWKHF    Male              0      No         No\n",
       "5944  5995-OIGLP    Male              0      No         No\n",
       "1144  0841-NULXI    Male              0      No         No\n",
       "1027  6732-FZUGP  Female              0      No         No"
      ]
     },
     "execution_count": 13,
     "metadata": {},
     "output_type": "execute_result"
    }
   ],
   "source": [
    "df_personal.sample(5)"
   ]
  },
  {
   "cell_type": "code",
   "execution_count": 14,
   "id": "037ab8a9",
   "metadata": {},
   "outputs": [
    {
     "name": "stdout",
     "output_type": "stream",
     "text": [
      "<class 'pandas.core.frame.DataFrame'>\n",
      "RangeIndex: 7043 entries, 0 to 7042\n",
      "Data columns (total 5 columns):\n",
      " #   Column         Non-Null Count  Dtype \n",
      "---  ------         --------------  ----- \n",
      " 0   customerID     7043 non-null   object\n",
      " 1   gender         7043 non-null   object\n",
      " 2   SeniorCitizen  7043 non-null   int64 \n",
      " 3   Partner        7043 non-null   object\n",
      " 4   Dependents     7043 non-null   object\n",
      "dtypes: int64(1), object(4)\n",
      "memory usage: 275.2+ KB\n"
     ]
    }
   ],
   "source": [
    "df_personal.info()"
   ]
  },
  {
   "cell_type": "code",
   "execution_count": 15,
   "id": "c6f9f105",
   "metadata": {},
   "outputs": [
    {
     "data": {
      "text/html": [
       "<div>\n",
       "<style scoped>\n",
       "    .dataframe tbody tr th:only-of-type {\n",
       "        vertical-align: middle;\n",
       "    }\n",
       "\n",
       "    .dataframe tbody tr th {\n",
       "        vertical-align: top;\n",
       "    }\n",
       "\n",
       "    .dataframe thead th {\n",
       "        text-align: right;\n",
       "    }\n",
       "</style>\n",
       "<table border=\"1\" class=\"dataframe\">\n",
       "  <thead>\n",
       "    <tr style=\"text-align: right;\">\n",
       "      <th></th>\n",
       "      <th>SeniorCitizen</th>\n",
       "    </tr>\n",
       "  </thead>\n",
       "  <tbody>\n",
       "    <tr>\n",
       "      <th>count</th>\n",
       "      <td>7043.000000</td>\n",
       "    </tr>\n",
       "    <tr>\n",
       "      <th>mean</th>\n",
       "      <td>0.162147</td>\n",
       "    </tr>\n",
       "    <tr>\n",
       "      <th>std</th>\n",
       "      <td>0.368612</td>\n",
       "    </tr>\n",
       "    <tr>\n",
       "      <th>min</th>\n",
       "      <td>0.000000</td>\n",
       "    </tr>\n",
       "    <tr>\n",
       "      <th>25%</th>\n",
       "      <td>0.000000</td>\n",
       "    </tr>\n",
       "    <tr>\n",
       "      <th>50%</th>\n",
       "      <td>0.000000</td>\n",
       "    </tr>\n",
       "    <tr>\n",
       "      <th>75%</th>\n",
       "      <td>0.000000</td>\n",
       "    </tr>\n",
       "    <tr>\n",
       "      <th>max</th>\n",
       "      <td>1.000000</td>\n",
       "    </tr>\n",
       "  </tbody>\n",
       "</table>\n",
       "</div>"
      ],
      "text/plain": [
       "       SeniorCitizen\n",
       "count    7043.000000\n",
       "mean        0.162147\n",
       "std         0.368612\n",
       "min         0.000000\n",
       "25%         0.000000\n",
       "50%         0.000000\n",
       "75%         0.000000\n",
       "max         1.000000"
      ]
     },
     "execution_count": 15,
     "metadata": {},
     "output_type": "execute_result"
    }
   ],
   "source": [
    "df_personal.describe()"
   ]
  },
  {
   "cell_type": "markdown",
   "id": "7e3a977e",
   "metadata": {},
   "source": [
    "# Limpieza de df_personal\n",
    "En este dataset no será necesario cambiar los tipos de datos, ya que todos se encuentran correctamente definidos.\n",
    " \n",
    " Se realizarán las siguientes acciones:\n",
    " - Estandarizar los nombres de las columnas a formato `snake_case`.\n",
    " - Verificar si existen valores ausentes o nulos en alguna columna y, en caso de encontrarlos, analizar la mejor forma de imputación.\n",
    " - Revisar si existen registros duplicados."
   ]
  },
  {
   "cell_type": "code",
   "execution_count": 16,
   "id": "f2e5f156",
   "metadata": {},
   "outputs": [
    {
     "name": "stdout",
     "output_type": "stream",
     "text": [
      "Index(['customer_id', 'gender', 'senior_citizen', 'partner', 'dependents'], dtype='object')\n"
     ]
    }
   ],
   "source": [
    "#Conversión de nombres de columnas a minisculas con formato snake case.\n",
    "column_snake_case(df_personal)\n",
    "print(df_personal.columns)"
   ]
  },
  {
   "cell_type": "code",
   "execution_count": 17,
   "id": "f8b6ac65",
   "metadata": {},
   "outputs": [
    {
     "name": "stdout",
     "output_type": "stream",
     "text": [
      "customer_id       0\n",
      "gender            0\n",
      "senior_citizen    0\n",
      "partner           0\n",
      "dependents        0\n",
      "dtype: int64\n"
     ]
    }
   ],
   "source": [
    "#Validación de datos nulos (NA)\n",
    "print(df_personal.isnull().sum())"
   ]
  },
  {
   "cell_type": "code",
   "execution_count": 18,
   "id": "153aac6e",
   "metadata": {},
   "outputs": [
    {
     "data": {
      "text/plain": [
       "0"
      ]
     },
     "execution_count": 18,
     "metadata": {},
     "output_type": "execute_result"
    }
   ],
   "source": [
    "#Validación de duplicados\n",
    "df_contract.duplicated().sum()"
   ]
  },
  {
   "cell_type": "markdown",
   "id": "4d2df6bc",
   "metadata": {},
   "source": [
    "**Este dataset está listo para integrarse a los demas datasets.**"
   ]
  },
  {
   "cell_type": "markdown",
   "id": "8a72b35a",
   "metadata": {},
   "source": [
    "# Análisis Exploratorio de Datos de df_internet"
   ]
  },
  {
   "cell_type": "code",
   "execution_count": 19,
   "id": "4d28d2f6",
   "metadata": {},
   "outputs": [
    {
     "data": {
      "text/html": [
       "<div>\n",
       "<style scoped>\n",
       "    .dataframe tbody tr th:only-of-type {\n",
       "        vertical-align: middle;\n",
       "    }\n",
       "\n",
       "    .dataframe tbody tr th {\n",
       "        vertical-align: top;\n",
       "    }\n",
       "\n",
       "    .dataframe thead th {\n",
       "        text-align: right;\n",
       "    }\n",
       "</style>\n",
       "<table border=\"1\" class=\"dataframe\">\n",
       "  <thead>\n",
       "    <tr style=\"text-align: right;\">\n",
       "      <th></th>\n",
       "      <th>customerID</th>\n",
       "      <th>InternetService</th>\n",
       "      <th>OnlineSecurity</th>\n",
       "      <th>OnlineBackup</th>\n",
       "      <th>DeviceProtection</th>\n",
       "      <th>TechSupport</th>\n",
       "      <th>StreamingTV</th>\n",
       "      <th>StreamingMovies</th>\n",
       "    </tr>\n",
       "  </thead>\n",
       "  <tbody>\n",
       "    <tr>\n",
       "      <th>2567</th>\n",
       "      <td>9626-VFRGG</td>\n",
       "      <td>Fiber optic</td>\n",
       "      <td>No</td>\n",
       "      <td>Yes</td>\n",
       "      <td>No</td>\n",
       "      <td>No</td>\n",
       "      <td>Yes</td>\n",
       "      <td>No</td>\n",
       "    </tr>\n",
       "    <tr>\n",
       "      <th>1285</th>\n",
       "      <td>6035-RIIOM</td>\n",
       "      <td>Fiber optic</td>\n",
       "      <td>No</td>\n",
       "      <td>Yes</td>\n",
       "      <td>No</td>\n",
       "      <td>No</td>\n",
       "      <td>Yes</td>\n",
       "      <td>Yes</td>\n",
       "    </tr>\n",
       "    <tr>\n",
       "      <th>845</th>\n",
       "      <td>0376-YMCJC</td>\n",
       "      <td>Fiber optic</td>\n",
       "      <td>No</td>\n",
       "      <td>No</td>\n",
       "      <td>No</td>\n",
       "      <td>Yes</td>\n",
       "      <td>Yes</td>\n",
       "      <td>No</td>\n",
       "    </tr>\n",
       "    <tr>\n",
       "      <th>3400</th>\n",
       "      <td>1518-OMDIK</td>\n",
       "      <td>DSL</td>\n",
       "      <td>No</td>\n",
       "      <td>No</td>\n",
       "      <td>No</td>\n",
       "      <td>No</td>\n",
       "      <td>No</td>\n",
       "      <td>No</td>\n",
       "    </tr>\n",
       "    <tr>\n",
       "      <th>2783</th>\n",
       "      <td>8417-GSODA</td>\n",
       "      <td>Fiber optic</td>\n",
       "      <td>No</td>\n",
       "      <td>No</td>\n",
       "      <td>No</td>\n",
       "      <td>No</td>\n",
       "      <td>Yes</td>\n",
       "      <td>Yes</td>\n",
       "    </tr>\n",
       "  </tbody>\n",
       "</table>\n",
       "</div>"
      ],
      "text/plain": [
       "      customerID InternetService OnlineSecurity OnlineBackup DeviceProtection  \\\n",
       "2567  9626-VFRGG     Fiber optic             No          Yes               No   \n",
       "1285  6035-RIIOM     Fiber optic             No          Yes               No   \n",
       "845   0376-YMCJC     Fiber optic             No           No               No   \n",
       "3400  1518-OMDIK             DSL             No           No               No   \n",
       "2783  8417-GSODA     Fiber optic             No           No               No   \n",
       "\n",
       "     TechSupport StreamingTV StreamingMovies  \n",
       "2567          No         Yes              No  \n",
       "1285          No         Yes             Yes  \n",
       "845          Yes         Yes              No  \n",
       "3400          No          No              No  \n",
       "2783          No         Yes             Yes  "
      ]
     },
     "execution_count": 19,
     "metadata": {},
     "output_type": "execute_result"
    }
   ],
   "source": [
    "df_internet.sample(5)"
   ]
  },
  {
   "cell_type": "code",
   "execution_count": 20,
   "id": "df946975",
   "metadata": {},
   "outputs": [
    {
     "name": "stdout",
     "output_type": "stream",
     "text": [
      "<class 'pandas.core.frame.DataFrame'>\n",
      "RangeIndex: 5517 entries, 0 to 5516\n",
      "Data columns (total 8 columns):\n",
      " #   Column            Non-Null Count  Dtype \n",
      "---  ------            --------------  ----- \n",
      " 0   customerID        5517 non-null   object\n",
      " 1   InternetService   5517 non-null   object\n",
      " 2   OnlineSecurity    5517 non-null   object\n",
      " 3   OnlineBackup      5517 non-null   object\n",
      " 4   DeviceProtection  5517 non-null   object\n",
      " 5   TechSupport       5517 non-null   object\n",
      " 6   StreamingTV       5517 non-null   object\n",
      " 7   StreamingMovies   5517 non-null   object\n",
      "dtypes: object(8)\n",
      "memory usage: 344.9+ KB\n"
     ]
    }
   ],
   "source": [
    "df_internet.info()"
   ]
  },
  {
   "cell_type": "code",
   "execution_count": 21,
   "id": "38e8bc1b",
   "metadata": {},
   "outputs": [
    {
     "data": {
      "text/html": [
       "<div>\n",
       "<style scoped>\n",
       "    .dataframe tbody tr th:only-of-type {\n",
       "        vertical-align: middle;\n",
       "    }\n",
       "\n",
       "    .dataframe tbody tr th {\n",
       "        vertical-align: top;\n",
       "    }\n",
       "\n",
       "    .dataframe thead th {\n",
       "        text-align: right;\n",
       "    }\n",
       "</style>\n",
       "<table border=\"1\" class=\"dataframe\">\n",
       "  <thead>\n",
       "    <tr style=\"text-align: right;\">\n",
       "      <th></th>\n",
       "      <th>customerID</th>\n",
       "      <th>InternetService</th>\n",
       "      <th>OnlineSecurity</th>\n",
       "      <th>OnlineBackup</th>\n",
       "      <th>DeviceProtection</th>\n",
       "      <th>TechSupport</th>\n",
       "      <th>StreamingTV</th>\n",
       "      <th>StreamingMovies</th>\n",
       "    </tr>\n",
       "  </thead>\n",
       "  <tbody>\n",
       "    <tr>\n",
       "      <th>count</th>\n",
       "      <td>5517</td>\n",
       "      <td>5517</td>\n",
       "      <td>5517</td>\n",
       "      <td>5517</td>\n",
       "      <td>5517</td>\n",
       "      <td>5517</td>\n",
       "      <td>5517</td>\n",
       "      <td>5517</td>\n",
       "    </tr>\n",
       "    <tr>\n",
       "      <th>unique</th>\n",
       "      <td>5517</td>\n",
       "      <td>2</td>\n",
       "      <td>2</td>\n",
       "      <td>2</td>\n",
       "      <td>2</td>\n",
       "      <td>2</td>\n",
       "      <td>2</td>\n",
       "      <td>2</td>\n",
       "    </tr>\n",
       "    <tr>\n",
       "      <th>top</th>\n",
       "      <td>4879-GZLFH</td>\n",
       "      <td>Fiber optic</td>\n",
       "      <td>No</td>\n",
       "      <td>No</td>\n",
       "      <td>No</td>\n",
       "      <td>No</td>\n",
       "      <td>No</td>\n",
       "      <td>No</td>\n",
       "    </tr>\n",
       "    <tr>\n",
       "      <th>freq</th>\n",
       "      <td>1</td>\n",
       "      <td>3096</td>\n",
       "      <td>3498</td>\n",
       "      <td>3088</td>\n",
       "      <td>3095</td>\n",
       "      <td>3473</td>\n",
       "      <td>2810</td>\n",
       "      <td>2785</td>\n",
       "    </tr>\n",
       "  </tbody>\n",
       "</table>\n",
       "</div>"
      ],
      "text/plain": [
       "        customerID InternetService OnlineSecurity OnlineBackup  \\\n",
       "count         5517            5517           5517         5517   \n",
       "unique        5517               2              2            2   \n",
       "top     4879-GZLFH     Fiber optic             No           No   \n",
       "freq             1            3096           3498         3088   \n",
       "\n",
       "       DeviceProtection TechSupport StreamingTV StreamingMovies  \n",
       "count              5517        5517        5517            5517  \n",
       "unique                2           2           2               2  \n",
       "top                  No          No          No              No  \n",
       "freq               3095        3473        2810            2785  "
      ]
     },
     "execution_count": 21,
     "metadata": {},
     "output_type": "execute_result"
    }
   ],
   "source": [
    "df_internet.describe()"
   ]
  },
  {
   "cell_type": "markdown",
   "id": "7ac0045c",
   "metadata": {},
   "source": [
    "# Limpieza de df_internet\n",
    " \n",
    " - Estandarizar los nombres de las columnas a formato `snake_case`.\n",
    " - Verificar si existen valores nulos o ausentes y definir la estrategia de imputación si es necesario.\n",
    " - Revisar si hay registros duplicados."
   ]
  },
  {
   "cell_type": "code",
   "execution_count": 22,
   "id": "67161760",
   "metadata": {},
   "outputs": [
    {
     "name": "stdout",
     "output_type": "stream",
     "text": [
      "Index(['customer_id', 'internet_service', 'online_security', 'online_backup',\n",
      "       'device_protection', 'tech_support', 'streaming_tv',\n",
      "       'streaming_movies'],\n",
      "      dtype='object')\n"
     ]
    }
   ],
   "source": [
    "#Conversión de nombres de columnas a minisculas.\n",
    "column_snake_case(df_internet)\n",
    "print(df_internet.columns)"
   ]
  },
  {
   "cell_type": "code",
   "execution_count": 23,
   "id": "6cedc123",
   "metadata": {},
   "outputs": [
    {
     "name": "stdout",
     "output_type": "stream",
     "text": [
      "customer_id          0\n",
      "internet_service     0\n",
      "online_security      0\n",
      "online_backup        0\n",
      "device_protection    0\n",
      "tech_support         0\n",
      "streaming_tv         0\n",
      "streaming_movies     0\n",
      "dtype: int64\n"
     ]
    }
   ],
   "source": [
    "#Validación de datos nulos (NA)\n",
    "print(df_internet.isnull().sum())"
   ]
  },
  {
   "cell_type": "code",
   "execution_count": 24,
   "id": "aaa84bb9",
   "metadata": {},
   "outputs": [
    {
     "data": {
      "text/plain": [
       "0"
      ]
     },
     "execution_count": 24,
     "metadata": {},
     "output_type": "execute_result"
    }
   ],
   "source": [
    "#Validación de duplicados\n",
    "df_internet.duplicated().sum()"
   ]
  },
  {
   "cell_type": "markdown",
   "id": "589ed85e",
   "metadata": {},
   "source": [
    "**Este dataset está listo para integrarse a los otros datasets. Sin embargo, contiene menos registros (5,517) que los otros datasets revisados anteriormente. Esto se debe a que no todos los clientes cuentan con servicios de Internet. Será necesario tener en cuenta este detalle al momento de realizar la unión final de los datos.**"
   ]
  },
  {
   "cell_type": "markdown",
   "id": "5cae4463",
   "metadata": {},
   "source": [
    "# Análisis Exploratorio de Datos de df_phone"
   ]
  },
  {
   "cell_type": "code",
   "execution_count": 25,
   "id": "e78ad13a",
   "metadata": {},
   "outputs": [
    {
     "data": {
      "text/html": [
       "<div>\n",
       "<style scoped>\n",
       "    .dataframe tbody tr th:only-of-type {\n",
       "        vertical-align: middle;\n",
       "    }\n",
       "\n",
       "    .dataframe tbody tr th {\n",
       "        vertical-align: top;\n",
       "    }\n",
       "\n",
       "    .dataframe thead th {\n",
       "        text-align: right;\n",
       "    }\n",
       "</style>\n",
       "<table border=\"1\" class=\"dataframe\">\n",
       "  <thead>\n",
       "    <tr style=\"text-align: right;\">\n",
       "      <th></th>\n",
       "      <th>customerID</th>\n",
       "      <th>MultipleLines</th>\n",
       "    </tr>\n",
       "  </thead>\n",
       "  <tbody>\n",
       "    <tr>\n",
       "      <th>1382</th>\n",
       "      <td>9207-ZPANB</td>\n",
       "      <td>Yes</td>\n",
       "    </tr>\n",
       "    <tr>\n",
       "      <th>3617</th>\n",
       "      <td>2860-RANUS</td>\n",
       "      <td>Yes</td>\n",
       "    </tr>\n",
       "    <tr>\n",
       "      <th>4621</th>\n",
       "      <td>7269-JISCY</td>\n",
       "      <td>No</td>\n",
       "    </tr>\n",
       "    <tr>\n",
       "      <th>2672</th>\n",
       "      <td>7740-BTPUX</td>\n",
       "      <td>Yes</td>\n",
       "    </tr>\n",
       "    <tr>\n",
       "      <th>755</th>\n",
       "      <td>2672-TGEFF</td>\n",
       "      <td>Yes</td>\n",
       "    </tr>\n",
       "  </tbody>\n",
       "</table>\n",
       "</div>"
      ],
      "text/plain": [
       "      customerID MultipleLines\n",
       "1382  9207-ZPANB           Yes\n",
       "3617  2860-RANUS           Yes\n",
       "4621  7269-JISCY            No\n",
       "2672  7740-BTPUX           Yes\n",
       "755   2672-TGEFF           Yes"
      ]
     },
     "execution_count": 25,
     "metadata": {},
     "output_type": "execute_result"
    }
   ],
   "source": [
    "df_phone.sample(5)"
   ]
  },
  {
   "cell_type": "code",
   "execution_count": 26,
   "id": "b32a25b2",
   "metadata": {},
   "outputs": [
    {
     "name": "stdout",
     "output_type": "stream",
     "text": [
      "<class 'pandas.core.frame.DataFrame'>\n",
      "RangeIndex: 6361 entries, 0 to 6360\n",
      "Data columns (total 2 columns):\n",
      " #   Column         Non-Null Count  Dtype \n",
      "---  ------         --------------  ----- \n",
      " 0   customerID     6361 non-null   object\n",
      " 1   MultipleLines  6361 non-null   object\n",
      "dtypes: object(2)\n",
      "memory usage: 99.5+ KB\n"
     ]
    }
   ],
   "source": [
    "df_phone.info()"
   ]
  },
  {
   "cell_type": "code",
   "execution_count": 27,
   "id": "c8756177",
   "metadata": {},
   "outputs": [
    {
     "data": {
      "text/html": [
       "<div>\n",
       "<style scoped>\n",
       "    .dataframe tbody tr th:only-of-type {\n",
       "        vertical-align: middle;\n",
       "    }\n",
       "\n",
       "    .dataframe tbody tr th {\n",
       "        vertical-align: top;\n",
       "    }\n",
       "\n",
       "    .dataframe thead th {\n",
       "        text-align: right;\n",
       "    }\n",
       "</style>\n",
       "<table border=\"1\" class=\"dataframe\">\n",
       "  <thead>\n",
       "    <tr style=\"text-align: right;\">\n",
       "      <th></th>\n",
       "      <th>customerID</th>\n",
       "      <th>MultipleLines</th>\n",
       "    </tr>\n",
       "  </thead>\n",
       "  <tbody>\n",
       "    <tr>\n",
       "      <th>count</th>\n",
       "      <td>6361</td>\n",
       "      <td>6361</td>\n",
       "    </tr>\n",
       "    <tr>\n",
       "      <th>unique</th>\n",
       "      <td>6361</td>\n",
       "      <td>2</td>\n",
       "    </tr>\n",
       "    <tr>\n",
       "      <th>top</th>\n",
       "      <td>0112-QAWRZ</td>\n",
       "      <td>No</td>\n",
       "    </tr>\n",
       "    <tr>\n",
       "      <th>freq</th>\n",
       "      <td>1</td>\n",
       "      <td>3390</td>\n",
       "    </tr>\n",
       "  </tbody>\n",
       "</table>\n",
       "</div>"
      ],
      "text/plain": [
       "        customerID MultipleLines\n",
       "count         6361          6361\n",
       "unique        6361             2\n",
       "top     0112-QAWRZ            No\n",
       "freq             1          3390"
      ]
     },
     "execution_count": 27,
     "metadata": {},
     "output_type": "execute_result"
    }
   ],
   "source": [
    "df_phone.describe()"
   ]
  },
  {
   "cell_type": "markdown",
   "id": "2ba6237a",
   "metadata": {},
   "source": [
    "# Limpieza de df_phone\n",
    " - Estandarizar los nombres de las columnas al formato `snake_case`.\n",
    " - Verificar si existen valores nulos o ausentes y definir la estrategia de imputación en caso necesario.\n",
    " - Revisar si hay registros duplicados."
   ]
  },
  {
   "cell_type": "code",
   "execution_count": 28,
   "id": "2eadadce",
   "metadata": {},
   "outputs": [
    {
     "name": "stdout",
     "output_type": "stream",
     "text": [
      "Index(['customer_id', 'multiple_lines'], dtype='object')\n"
     ]
    }
   ],
   "source": [
    "#Conversión de nombres de columnas a estructura snake_case.\n",
    "column_snake_case(df_phone)\n",
    "print(df_phone.columns)"
   ]
  },
  {
   "cell_type": "code",
   "execution_count": 29,
   "id": "d9e6bbd1",
   "metadata": {},
   "outputs": [
    {
     "name": "stdout",
     "output_type": "stream",
     "text": [
      "customer_id       0\n",
      "multiple_lines    0\n",
      "dtype: int64\n"
     ]
    }
   ],
   "source": [
    "#Validación de datos nulos (NAN)\n",
    "print(df_phone.isnull().sum())"
   ]
  },
  {
   "cell_type": "code",
   "execution_count": 30,
   "id": "a6ea6491",
   "metadata": {},
   "outputs": [
    {
     "data": {
      "text/plain": [
       "0"
      ]
     },
     "execution_count": 30,
     "metadata": {},
     "output_type": "execute_result"
    }
   ],
   "source": [
    "#Validación de duplicados\n",
    "df_phone.duplicated().sum()"
   ]
  },
  {
   "cell_type": "markdown",
   "id": "790685fe",
   "metadata": {},
   "source": [
    "**El dataset quedó listo para unirse al resto de los datframes. Sin embargo, este dataset contiene menos registros (6,361) que algunos de los otros datasets revisados. Esto se debe a que no todos los clientes cuentan con servicios telefónicos, por lo que será necesario considerar este detalle al realizar la unión final de los datos.**"
   ]
  },
  {
   "cell_type": "markdown",
   "id": "95f3d026",
   "metadata": {},
   "source": [
    "# Unión de los Datasets\n",
    " \n",
    " En este paso integraremos los cuatro datasets en un único DataFrame que consolide toda la información disponible sobre los clientes.\n",
    " \n",
    " Se utilizará la tabla de contratos como base principal del proceso de unión, ya que representa el núcleo de la relación entre el cliente y la empresa. De esta manera, se garantiza la inclusión de todos los registros de clientes, independientemente de si cuentan o no con servicios adicionales como Internet o telefonía.\n",
    " \n",
    " La clave de integración será la columna `customer_id`, presente en los cuatro datasets. Se aplicará una estrategia de unión tipo left join, que prioriza la conservación de todos los contratos activos y asocia la información complementaria disponible en las demás fuentes.\n",
    " \n",
    " Una vez realizada la fusión, se llevará a cabo una evaluación de valores ausentes para determinar su origen y establecer el tratamiento más adecuado, en función de su impacto en los análisis posteriores."
   ]
  },
  {
   "cell_type": "code",
   "execution_count": 31,
   "id": "8fed6b61",
   "metadata": {},
   "outputs": [],
   "source": [
    "df_master = df_contract.merge(df_personal, on=\"customer_id\", how=\"left\")\n",
    "df_master = df_master.merge(df_internet, on=\"customer_id\", how=\"left\")\n",
    "df_master = df_master.merge(df_phone, on=\"customer_id\", how=\"left\")"
   ]
  },
  {
   "cell_type": "code",
   "execution_count": 32,
   "id": "d9e46152",
   "metadata": {},
   "outputs": [
    {
     "data": {
      "text/html": [
       "<div>\n",
       "<style scoped>\n",
       "    .dataframe tbody tr th:only-of-type {\n",
       "        vertical-align: middle;\n",
       "    }\n",
       "\n",
       "    .dataframe tbody tr th {\n",
       "        vertical-align: top;\n",
       "    }\n",
       "\n",
       "    .dataframe thead th {\n",
       "        text-align: right;\n",
       "    }\n",
       "</style>\n",
       "<table border=\"1\" class=\"dataframe\">\n",
       "  <thead>\n",
       "    <tr style=\"text-align: right;\">\n",
       "      <th></th>\n",
       "      <th>customer_id</th>\n",
       "      <th>begin_date</th>\n",
       "      <th>end_date</th>\n",
       "      <th>type</th>\n",
       "      <th>paperless_billing</th>\n",
       "      <th>payment_method</th>\n",
       "      <th>monthly_charges</th>\n",
       "      <th>total_charges</th>\n",
       "      <th>gender</th>\n",
       "      <th>senior_citizen</th>\n",
       "      <th>partner</th>\n",
       "      <th>dependents</th>\n",
       "      <th>internet_service</th>\n",
       "      <th>online_security</th>\n",
       "      <th>online_backup</th>\n",
       "      <th>device_protection</th>\n",
       "      <th>tech_support</th>\n",
       "      <th>streaming_tv</th>\n",
       "      <th>streaming_movies</th>\n",
       "      <th>multiple_lines</th>\n",
       "    </tr>\n",
       "  </thead>\n",
       "  <tbody>\n",
       "    <tr>\n",
       "      <th>4866</th>\n",
       "      <td>3688-FTHLT</td>\n",
       "      <td>2018-10-01</td>\n",
       "      <td>NaT</td>\n",
       "      <td>Month-to-month</td>\n",
       "      <td>Yes</td>\n",
       "      <td>Bank transfer (automatic)</td>\n",
       "      <td>63.05</td>\n",
       "      <td>1067.05</td>\n",
       "      <td>Female</td>\n",
       "      <td>0</td>\n",
       "      <td>No</td>\n",
       "      <td>No</td>\n",
       "      <td>DSL</td>\n",
       "      <td>No</td>\n",
       "      <td>No</td>\n",
       "      <td>No</td>\n",
       "      <td>No</td>\n",
       "      <td>No</td>\n",
       "      <td>Yes</td>\n",
       "      <td>Yes</td>\n",
       "    </tr>\n",
       "    <tr>\n",
       "      <th>5933</th>\n",
       "      <td>6496-SLWHQ</td>\n",
       "      <td>2019-10-01</td>\n",
       "      <td>2020-01-01</td>\n",
       "      <td>Month-to-month</td>\n",
       "      <td>Yes</td>\n",
       "      <td>Electronic check</td>\n",
       "      <td>105.00</td>\n",
       "      <td>294.45</td>\n",
       "      <td>Male</td>\n",
       "      <td>1</td>\n",
       "      <td>No</td>\n",
       "      <td>No</td>\n",
       "      <td>Fiber optic</td>\n",
       "      <td>No</td>\n",
       "      <td>Yes</td>\n",
       "      <td>Yes</td>\n",
       "      <td>No</td>\n",
       "      <td>Yes</td>\n",
       "      <td>Yes</td>\n",
       "      <td>Yes</td>\n",
       "    </tr>\n",
       "    <tr>\n",
       "      <th>2228</th>\n",
       "      <td>3597-YASZG</td>\n",
       "      <td>2014-04-01</td>\n",
       "      <td>NaT</td>\n",
       "      <td>Two year</td>\n",
       "      <td>Yes</td>\n",
       "      <td>Bank transfer (automatic)</td>\n",
       "      <td>104.45</td>\n",
       "      <td>7349.35</td>\n",
       "      <td>Female</td>\n",
       "      <td>1</td>\n",
       "      <td>Yes</td>\n",
       "      <td>No</td>\n",
       "      <td>Fiber optic</td>\n",
       "      <td>No</td>\n",
       "      <td>Yes</td>\n",
       "      <td>No</td>\n",
       "      <td>Yes</td>\n",
       "      <td>Yes</td>\n",
       "      <td>Yes</td>\n",
       "      <td>Yes</td>\n",
       "    </tr>\n",
       "    <tr>\n",
       "      <th>1452</th>\n",
       "      <td>0222-CNVPT</td>\n",
       "      <td>2015-10-01</td>\n",
       "      <td>NaT</td>\n",
       "      <td>Month-to-month</td>\n",
       "      <td>Yes</td>\n",
       "      <td>Credit card (automatic)</td>\n",
       "      <td>48.80</td>\n",
       "      <td>2555.05</td>\n",
       "      <td>Male</td>\n",
       "      <td>1</td>\n",
       "      <td>No</td>\n",
       "      <td>No</td>\n",
       "      <td>DSL</td>\n",
       "      <td>Yes</td>\n",
       "      <td>No</td>\n",
       "      <td>No</td>\n",
       "      <td>No</td>\n",
       "      <td>Yes</td>\n",
       "      <td>Yes</td>\n",
       "      <td>NaN</td>\n",
       "    </tr>\n",
       "    <tr>\n",
       "      <th>5898</th>\n",
       "      <td>8277-RVRSV</td>\n",
       "      <td>2017-05-01</td>\n",
       "      <td>NaT</td>\n",
       "      <td>One year</td>\n",
       "      <td>No</td>\n",
       "      <td>Credit card (automatic)</td>\n",
       "      <td>24.15</td>\n",
       "      <td>800.30</td>\n",
       "      <td>Female</td>\n",
       "      <td>0</td>\n",
       "      <td>Yes</td>\n",
       "      <td>Yes</td>\n",
       "      <td>NaN</td>\n",
       "      <td>NaN</td>\n",
       "      <td>NaN</td>\n",
       "      <td>NaN</td>\n",
       "      <td>NaN</td>\n",
       "      <td>NaN</td>\n",
       "      <td>NaN</td>\n",
       "      <td>Yes</td>\n",
       "    </tr>\n",
       "  </tbody>\n",
       "</table>\n",
       "</div>"
      ],
      "text/plain": [
       "     customer_id begin_date   end_date            type paperless_billing  \\\n",
       "4866  3688-FTHLT 2018-10-01        NaT  Month-to-month               Yes   \n",
       "5933  6496-SLWHQ 2019-10-01 2020-01-01  Month-to-month               Yes   \n",
       "2228  3597-YASZG 2014-04-01        NaT        Two year               Yes   \n",
       "1452  0222-CNVPT 2015-10-01        NaT  Month-to-month               Yes   \n",
       "5898  8277-RVRSV 2017-05-01        NaT        One year                No   \n",
       "\n",
       "                 payment_method  monthly_charges  total_charges  gender  \\\n",
       "4866  Bank transfer (automatic)            63.05        1067.05  Female   \n",
       "5933           Electronic check           105.00         294.45    Male   \n",
       "2228  Bank transfer (automatic)           104.45        7349.35  Female   \n",
       "1452    Credit card (automatic)            48.80        2555.05    Male   \n",
       "5898    Credit card (automatic)            24.15         800.30  Female   \n",
       "\n",
       "      senior_citizen partner dependents internet_service online_security  \\\n",
       "4866               0      No         No              DSL              No   \n",
       "5933               1      No         No      Fiber optic              No   \n",
       "2228               1     Yes         No      Fiber optic              No   \n",
       "1452               1      No         No              DSL             Yes   \n",
       "5898               0     Yes        Yes              NaN             NaN   \n",
       "\n",
       "     online_backup device_protection tech_support streaming_tv  \\\n",
       "4866            No                No           No           No   \n",
       "5933           Yes               Yes           No          Yes   \n",
       "2228           Yes                No          Yes          Yes   \n",
       "1452            No                No           No          Yes   \n",
       "5898           NaN               NaN          NaN          NaN   \n",
       "\n",
       "     streaming_movies multiple_lines  \n",
       "4866              Yes            Yes  \n",
       "5933              Yes            Yes  \n",
       "2228              Yes            Yes  \n",
       "1452              Yes            NaN  \n",
       "5898              NaN            Yes  "
      ]
     },
     "execution_count": 32,
     "metadata": {},
     "output_type": "execute_result"
    }
   ],
   "source": [
    "df_master.sample(5)"
   ]
  },
  {
   "cell_type": "code",
   "execution_count": 33,
   "id": "749f2e1a",
   "metadata": {},
   "outputs": [
    {
     "name": "stdout",
     "output_type": "stream",
     "text": [
      "<class 'pandas.core.frame.DataFrame'>\n",
      "Int64Index: 7043 entries, 0 to 7042\n",
      "Data columns (total 20 columns):\n",
      " #   Column             Non-Null Count  Dtype         \n",
      "---  ------             --------------  -----         \n",
      " 0   customer_id        7043 non-null   object        \n",
      " 1   begin_date         7043 non-null   datetime64[ns]\n",
      " 2   end_date           1869 non-null   datetime64[ns]\n",
      " 3   type               7043 non-null   object        \n",
      " 4   paperless_billing  7043 non-null   object        \n",
      " 5   payment_method     7043 non-null   object        \n",
      " 6   monthly_charges    7043 non-null   float64       \n",
      " 7   total_charges      7043 non-null   float64       \n",
      " 8   gender             7043 non-null   object        \n",
      " 9   senior_citizen     7043 non-null   int64         \n",
      " 10  partner            7043 non-null   object        \n",
      " 11  dependents         7043 non-null   object        \n",
      " 12  internet_service   5517 non-null   object        \n",
      " 13  online_security    5517 non-null   object        \n",
      " 14  online_backup      5517 non-null   object        \n",
      " 15  device_protection  5517 non-null   object        \n",
      " 16  tech_support       5517 non-null   object        \n",
      " 17  streaming_tv       5517 non-null   object        \n",
      " 18  streaming_movies   5517 non-null   object        \n",
      " 19  multiple_lines     6361 non-null   object        \n",
      "dtypes: datetime64[ns](2), float64(2), int64(1), object(15)\n",
      "memory usage: 1.1+ MB\n"
     ]
    }
   ],
   "source": [
    "df_master.info()"
   ]
  },
  {
   "cell_type": "markdown",
   "id": "c927c752",
   "metadata": {},
   "source": [
    "# Transformación y corrección de datos.\n",
    " \n",
    " Después de unir los datasets, se identificaron valores nulos en las columnas relacionadas con los servicios de Internet y telefónicos. Esta situación refleja que ciertos clientes no cuentan con estos servicios contratados, y no representa una falla en la información sino una condición del negocio.\n",
    " \n",
    " La estrategia de imputación será la siguiente:\n",
    " \n",
    " - Para todas las columnas binarias relacionadas con los servicios de Internet y teléfono (por ejemplo, `online_security`, `online_backup`, `tech_support`, `multiple_lines`, etc.), se imputará el valor `\"No\"` indicando que el cliente no utiliza estos servicios.\n",
    " - Para la columna `internet_service`, que contiene el nombre del tipo de servicio contratado, se imputará el valor `\"Sin servicio\"` para diferenciar claramente los casos donde no hay servicio de Internet.\n",
    " \n",
    " De este modo, se estandarizarán los datos sin eliminar registros y hará que cada cliente esté representado de forma completa y precisa en el modelo de retención."
   ]
  },
  {
   "cell_type": "code",
   "execution_count": 34,
   "id": "241d8787",
   "metadata": {},
   "outputs": [],
   "source": [
    "#Creo una lista de las columnas sin servicio.\n",
    "no_service = [\n",
    "    \"online_security\",\n",
    "    \"online_backup\",\n",
    "    \"device_protection\",\n",
    "    \"tech_support\",\n",
    "    \"streaming_tv\",\n",
    "    \"streaming_movies\",\n",
    "    \"multiple_lines\"\n",
    "]"
   ]
  },
  {
   "cell_type": "code",
   "execution_count": 35,
   "id": "f300d762",
   "metadata": {},
   "outputs": [],
   "source": [
    "df_master[no_service] = df_master[no_service].fillna(\"No\")"
   ]
  },
  {
   "cell_type": "code",
   "execution_count": 36,
   "id": "e48ede4c",
   "metadata": {},
   "outputs": [],
   "source": [
    "#Imputamos valores de la columna 'internet_service' con \"Sin servicio\"\n",
    "df_master['internet_service'].fillna('Sin Servicio', inplace=True)"
   ]
  },
  {
   "cell_type": "code",
   "execution_count": 37,
   "id": "7740072b",
   "metadata": {},
   "outputs": [
    {
     "data": {
      "text/plain": [
       "customer_id             0\n",
       "begin_date              0\n",
       "end_date             5174\n",
       "type                    0\n",
       "paperless_billing       0\n",
       "payment_method          0\n",
       "monthly_charges         0\n",
       "total_charges           0\n",
       "gender                  0\n",
       "senior_citizen          0\n",
       "partner                 0\n",
       "dependents              0\n",
       "internet_service        0\n",
       "online_security         0\n",
       "online_backup           0\n",
       "device_protection       0\n",
       "tech_support            0\n",
       "streaming_tv            0\n",
       "streaming_movies        0\n",
       "multiple_lines          0\n",
       "dtype: int64"
      ]
     },
     "execution_count": 37,
     "metadata": {},
     "output_type": "execute_result"
    }
   ],
   "source": [
    "# checamos que se hayan imputado las columnas tratadas\n",
    "df_master.isnull().sum()"
   ]
  },
  {
   "cell_type": "markdown",
   "id": "7547cad9",
   "metadata": {},
   "source": [
    "# Preprocesamiento de datos.\n",
    " \n",
    " Como primer paso del preprocesamiento, definiremos la variable objetivo que será utilizada para entrenar nuestro modelo de clasificación.\n",
    " \n",
    " La columna `end_date` nos indica si un cliente ha cancelado su contrato. Por lo tanto, a partir de esta columna crearemos una nueva variable binaria llamada `churn`, que tomará los siguientes valores:\n",
    " \n",
    " - `1` si el cliente ha cancelado (es decir, si `end_date` contiene una fecha).\n",
    " - `0` si el cliente sigue activo (es decir, si `end_date` es nulo o `NaT`).\n",
    " \n",
    " Esta nueva variable será nuestro objetivo el cual el modelo intentará predecir en función de las características del cliente y los servicios que utiliza."
   ]
  },
  {
   "cell_type": "code",
   "execution_count": 38,
   "id": "776f8a79",
   "metadata": {},
   "outputs": [],
   "source": [
    "df_master['churn'] = df_master['end_date'].notna().astype(int)"
   ]
  },
  {
   "cell_type": "markdown",
   "id": "8a84972c",
   "metadata": {},
   "source": [
    "# **Ingeniería de Características: Duración del Contrato** \n",
    " Dado que el AUC-ROC no superaba los 0.82 con distintos modelos, decidimos incorporar una nueva característica clave: `contract_duration` (duración del contrato en meses). Esta se calcula a partir de las fechas de inicio y fin del contrato. Para los clientes activos (aquellos sin `end_date`), se asume que su contrato continúa hasta la fecha más reciente de churn registrada en el dataset, más un día, o una fecha fija si no hay churns. Esta característica es vital ya que la duración del contrato puede ser un fuerte predictor de la propensión a la cancelación."
   ]
  },
  {
   "cell_type": "code",
   "execution_count": 39,
   "id": "dafcf818",
   "metadata": {},
   "outputs": [
    {
     "name": "stdout",
     "output_type": "stream",
     "text": [
      "Muestra de contract_duration:\n",
      "     begin_date   end_date  contract_duration  churn\n",
      "2975 2019-11-01        NaT                  2      0\n",
      "6817 2014-02-01        NaT                 71      0\n",
      "3533 2019-04-01        NaT                  9      0\n",
      "3241 2019-11-01 2019-12-01                  1      1\n",
      "4116 2018-06-01        NaT                 19      0\n"
     ]
    }
   ],
   "source": [
    "# Calcular contract_duration en meses\n",
    "# Para clientes activos, se asume que el contrato continúa hasta la fecha más reciente de churn + 1 día,\n",
    "# o una fecha predefinida si no hay clientes que hayan cancelado (para este dataset, hay churn).\n",
    "max_end_date = df_master['end_date'].max()\n",
    "\n",
    "if pd.isna(max_end_date):\n",
    "    # Si no hay fechas de fin (nadie ha cancelado aún), usamos la fecha actual o una fecha de referencia posterior al último begin_date\n",
    "    current_date = pd.to_datetime('2025-07-01') # Usamos una fecha posterior para cálculo si no hay churns\n",
    "else:\n",
    "    current_date = max_end_date + pd.Timedelta(days=1)\n",
    "\n",
    "df_master['contract_duration'] = (\n",
    "    (df_master['end_date'].fillna(current_date) - df_master['begin_date']).dt.days / 30.44\n",
    ").round().astype(int)\n",
    "\n",
    "\n",
    "print(\"Muestra de contract_duration:\")\n",
    "print(df_master[['begin_date', 'end_date', 'contract_duration', 'churn']].sample(5))"
   ]
  },
  {
   "cell_type": "markdown",
   "id": "ba01cba0",
   "metadata": {},
   "source": [
    "# Análisis del equilibrio de clases"
   ]
  },
  {
   "cell_type": "code",
   "execution_count": 40,
   "id": "2ea6213d",
   "metadata": {},
   "outputs": [
    {
     "data": {
      "text/plain": [
       "0    0.73463\n",
       "1    0.26537\n",
       "Name: churn, dtype: float64"
      ]
     },
     "execution_count": 40,
     "metadata": {},
     "output_type": "execute_result"
    }
   ],
   "source": [
    "# ver la proporción de cada clase: cancelaron (1) y cuántos siguen activos (0)\n",
    "df_master['churn'].value_counts(normalize=True)"
   ]
  },
  {
   "cell_type": "code",
   "execution_count": 41,
   "id": "907ff53b",
   "metadata": {},
   "outputs": [
    {
     "data": {
      "text/html": [
       "<div>\n",
       "<style scoped>\n",
       "    .dataframe tbody tr th:only-of-type {\n",
       "        vertical-align: middle;\n",
       "    }\n",
       "\n",
       "    .dataframe tbody tr th {\n",
       "        vertical-align: top;\n",
       "    }\n",
       "\n",
       "    .dataframe thead th {\n",
       "        text-align: right;\n",
       "    }\n",
       "</style>\n",
       "<table border=\"1\" class=\"dataframe\">\n",
       "  <thead>\n",
       "    <tr style=\"text-align: right;\">\n",
       "      <th>churn</th>\n",
       "      <th>0</th>\n",
       "      <th>1</th>\n",
       "    </tr>\n",
       "    <tr>\n",
       "      <th>type</th>\n",
       "      <th></th>\n",
       "      <th></th>\n",
       "    </tr>\n",
       "  </thead>\n",
       "  <tbody>\n",
       "    <tr>\n",
       "      <th>Month-to-month</th>\n",
       "      <td>0.573</td>\n",
       "      <td>0.427</td>\n",
       "    </tr>\n",
       "    <tr>\n",
       "      <th>One year</th>\n",
       "      <td>0.887</td>\n",
       "      <td>0.113</td>\n",
       "    </tr>\n",
       "    <tr>\n",
       "      <th>Two year</th>\n",
       "      <td>0.972</td>\n",
       "      <td>0.028</td>\n",
       "    </tr>\n",
       "  </tbody>\n",
       "</table>\n",
       "</div>"
      ],
      "text/plain": [
       "churn               0      1\n",
       "type                        \n",
       "Month-to-month  0.573  0.427\n",
       "One year        0.887  0.113\n",
       "Two year        0.972  0.028"
      ]
     },
     "execution_count": 41,
     "metadata": {},
     "output_type": "execute_result"
    }
   ],
   "source": [
    "pd.crosstab(df_master['type'], df_master['churn'], normalize='index').round(3)"
   ]
  },
  {
   "cell_type": "markdown",
   "id": "f033e952",
   "metadata": {},
   "source": [
    "# Transformar las variables categóricas en variables numéricas (one-hot encoding) para preparar los datos para modelado."
   ]
  },
  {
   "cell_type": "code",
   "execution_count": 42,
   "id": "87196eec",
   "metadata": {},
   "outputs": [],
   "source": [
    "# Selección de columnas categóricas\n",
    "cat_cols = df_master.select_dtypes(include='object').columns.drop(['customer_id'])  # No codificamos ID\n",
    "\n",
    "# Aplicar one-hot encoding\n",
    "df_model = pd.get_dummies(df_master, columns=cat_cols, drop_first=True)"
   ]
  },
  {
   "cell_type": "code",
   "execution_count": 43,
   "id": "18e75131",
   "metadata": {},
   "outputs": [
    {
     "name": "stdout",
     "output_type": "stream",
     "text": [
      "(7043, 26)\n"
     ]
    },
    {
     "data": {
      "text/html": [
       "<div>\n",
       "<style scoped>\n",
       "    .dataframe tbody tr th:only-of-type {\n",
       "        vertical-align: middle;\n",
       "    }\n",
       "\n",
       "    .dataframe tbody tr th {\n",
       "        vertical-align: top;\n",
       "    }\n",
       "\n",
       "    .dataframe thead th {\n",
       "        text-align: right;\n",
       "    }\n",
       "</style>\n",
       "<table border=\"1\" class=\"dataframe\">\n",
       "  <thead>\n",
       "    <tr style=\"text-align: right;\">\n",
       "      <th></th>\n",
       "      <th>customer_id</th>\n",
       "      <th>begin_date</th>\n",
       "      <th>end_date</th>\n",
       "      <th>monthly_charges</th>\n",
       "      <th>total_charges</th>\n",
       "      <th>senior_citizen</th>\n",
       "      <th>churn</th>\n",
       "      <th>contract_duration</th>\n",
       "      <th>type_One year</th>\n",
       "      <th>type_Two year</th>\n",
       "      <th>...</th>\n",
       "      <th>dependents_Yes</th>\n",
       "      <th>internet_service_Fiber optic</th>\n",
       "      <th>internet_service_Sin Servicio</th>\n",
       "      <th>online_security_Yes</th>\n",
       "      <th>online_backup_Yes</th>\n",
       "      <th>device_protection_Yes</th>\n",
       "      <th>tech_support_Yes</th>\n",
       "      <th>streaming_tv_Yes</th>\n",
       "      <th>streaming_movies_Yes</th>\n",
       "      <th>multiple_lines_Yes</th>\n",
       "    </tr>\n",
       "  </thead>\n",
       "  <tbody>\n",
       "    <tr>\n",
       "      <th>2239</th>\n",
       "      <td>8069-RHUXK</td>\n",
       "      <td>2014-07-01</td>\n",
       "      <td>NaT</td>\n",
       "      <td>35.70</td>\n",
       "      <td>2545.70</td>\n",
       "      <td>0</td>\n",
       "      <td>0</td>\n",
       "      <td>66</td>\n",
       "      <td>0</td>\n",
       "      <td>1</td>\n",
       "      <td>...</td>\n",
       "      <td>1</td>\n",
       "      <td>0</td>\n",
       "      <td>0</td>\n",
       "      <td>1</td>\n",
       "      <td>0</td>\n",
       "      <td>0</td>\n",
       "      <td>1</td>\n",
       "      <td>0</td>\n",
       "      <td>0</td>\n",
       "      <td>0</td>\n",
       "    </tr>\n",
       "    <tr>\n",
       "      <th>2450</th>\n",
       "      <td>7602-MVRMB</td>\n",
       "      <td>2014-02-01</td>\n",
       "      <td>NaT</td>\n",
       "      <td>110.45</td>\n",
       "      <td>8058.85</td>\n",
       "      <td>0</td>\n",
       "      <td>0</td>\n",
       "      <td>71</td>\n",
       "      <td>0</td>\n",
       "      <td>1</td>\n",
       "      <td>...</td>\n",
       "      <td>1</td>\n",
       "      <td>1</td>\n",
       "      <td>0</td>\n",
       "      <td>1</td>\n",
       "      <td>0</td>\n",
       "      <td>1</td>\n",
       "      <td>1</td>\n",
       "      <td>1</td>\n",
       "      <td>1</td>\n",
       "      <td>1</td>\n",
       "    </tr>\n",
       "    <tr>\n",
       "      <th>4638</th>\n",
       "      <td>7817-BOQPW</td>\n",
       "      <td>2019-09-01</td>\n",
       "      <td>2019-11-01</td>\n",
       "      <td>75.55</td>\n",
       "      <td>166.30</td>\n",
       "      <td>0</td>\n",
       "      <td>1</td>\n",
       "      <td>2</td>\n",
       "      <td>0</td>\n",
       "      <td>0</td>\n",
       "      <td>...</td>\n",
       "      <td>0</td>\n",
       "      <td>1</td>\n",
       "      <td>0</td>\n",
       "      <td>0</td>\n",
       "      <td>0</td>\n",
       "      <td>0</td>\n",
       "      <td>0</td>\n",
       "      <td>0</td>\n",
       "      <td>0</td>\n",
       "      <td>1</td>\n",
       "    </tr>\n",
       "    <tr>\n",
       "      <th>1240</th>\n",
       "      <td>2120-SMPEX</td>\n",
       "      <td>2018-01-01</td>\n",
       "      <td>NaT</td>\n",
       "      <td>20.15</td>\n",
       "      <td>536.35</td>\n",
       "      <td>0</td>\n",
       "      <td>0</td>\n",
       "      <td>24</td>\n",
       "      <td>0</td>\n",
       "      <td>0</td>\n",
       "      <td>...</td>\n",
       "      <td>0</td>\n",
       "      <td>0</td>\n",
       "      <td>1</td>\n",
       "      <td>0</td>\n",
       "      <td>0</td>\n",
       "      <td>0</td>\n",
       "      <td>0</td>\n",
       "      <td>0</td>\n",
       "      <td>0</td>\n",
       "      <td>0</td>\n",
       "    </tr>\n",
       "    <tr>\n",
       "      <th>4296</th>\n",
       "      <td>4489-SNOJF</td>\n",
       "      <td>2017-01-01</td>\n",
       "      <td>2019-12-01</td>\n",
       "      <td>72.25</td>\n",
       "      <td>2568.55</td>\n",
       "      <td>0</td>\n",
       "      <td>1</td>\n",
       "      <td>35</td>\n",
       "      <td>0</td>\n",
       "      <td>0</td>\n",
       "      <td>...</td>\n",
       "      <td>1</td>\n",
       "      <td>0</td>\n",
       "      <td>0</td>\n",
       "      <td>1</td>\n",
       "      <td>0</td>\n",
       "      <td>1</td>\n",
       "      <td>1</td>\n",
       "      <td>1</td>\n",
       "      <td>0</td>\n",
       "      <td>1</td>\n",
       "    </tr>\n",
       "  </tbody>\n",
       "</table>\n",
       "<p>5 rows × 26 columns</p>\n",
       "</div>"
      ],
      "text/plain": [
       "     customer_id begin_date   end_date  monthly_charges  total_charges  \\\n",
       "2239  8069-RHUXK 2014-07-01        NaT            35.70        2545.70   \n",
       "2450  7602-MVRMB 2014-02-01        NaT           110.45        8058.85   \n",
       "4638  7817-BOQPW 2019-09-01 2019-11-01            75.55         166.30   \n",
       "1240  2120-SMPEX 2018-01-01        NaT            20.15         536.35   \n",
       "4296  4489-SNOJF 2017-01-01 2019-12-01            72.25        2568.55   \n",
       "\n",
       "      senior_citizen  churn  contract_duration  type_One year  type_Two year  \\\n",
       "2239               0      0                 66              0              1   \n",
       "2450               0      0                 71              0              1   \n",
       "4638               0      1                  2              0              0   \n",
       "1240               0      0                 24              0              0   \n",
       "4296               0      1                 35              0              0   \n",
       "\n",
       "      ...  dependents_Yes  internet_service_Fiber optic  \\\n",
       "2239  ...               1                             0   \n",
       "2450  ...               1                             1   \n",
       "4638  ...               0                             1   \n",
       "1240  ...               0                             0   \n",
       "4296  ...               1                             0   \n",
       "\n",
       "      internet_service_Sin Servicio  online_security_Yes  online_backup_Yes  \\\n",
       "2239                              0                    1                  0   \n",
       "2450                              0                    1                  0   \n",
       "4638                              0                    0                  0   \n",
       "1240                              1                    0                  0   \n",
       "4296                              0                    1                  0   \n",
       "\n",
       "      device_protection_Yes  tech_support_Yes  streaming_tv_Yes  \\\n",
       "2239                      0                 1                 0   \n",
       "2450                      1                 1                 1   \n",
       "4638                      0                 0                 0   \n",
       "1240                      0                 0                 0   \n",
       "4296                      1                 1                 1   \n",
       "\n",
       "      streaming_movies_Yes  multiple_lines_Yes  \n",
       "2239                     0                   0  \n",
       "2450                     1                   1  \n",
       "4638                     0                   1  \n",
       "1240                     0                   0  \n",
       "4296                     0                   1  \n",
       "\n",
       "[5 rows x 26 columns]"
      ]
     },
     "execution_count": 43,
     "metadata": {},
     "output_type": "execute_result"
    }
   ],
   "source": [
    "# Validamos que el df tenga el mismo tamaño y que se haya aplicado el metodo Dummy\n",
    "print(df_model.shape)\n",
    "df_model.sample(5)"
   ]
  },
  {
   "cell_type": "markdown",
   "id": "42397f09",
   "metadata": {},
   "source": [
    "# Escalado de variables numéricas"
   ]
  },
  {
   "cell_type": "code",
   "execution_count": 44,
   "id": "7f27f4c0",
   "metadata": {},
   "outputs": [],
   "source": [
    "# Columnas numericas (no binarias). Ahora incluye 'contract_duration'.\n",
    "num_cols = ['monthly_charges', 'total_charges', 'contract_duration']\n",
    "\n",
    "# Escalado con StandardScaler: media = 0, desviación = 1\n",
    "scaler = StandardScaler()\n",
    "df_model[num_cols] = scaler.fit_transform(df_model[num_cols])"
   ]
  },
  {
   "cell_type": "markdown",
   "id": "30ed5b40",
   "metadata": {},
   "source": [
    "# Selección de variables para modelado\n",
    " \n",
    " - **`X`**: contiene todas las columnas predictoras, excepto:\n",
    "   - `'churn'`: es la variable objetivo (target), no debe ir como entrada.\n",
    "   - `'customer_id'`: es un identificador, no aporta valor predictivo.\n",
    "   - `'end_date'`: se usó para construir `churn`, pero incluirla como predictor generaría fuga de información (*data leakage*).\n",
    "   - `'begin_date'`: la duración del contrato ya la captura, y es una fecha.\n",
    " \n",
    " - **`y`**: es la variable objetivo, corresponde a la columna `'churn'`.\n"
   ]
  },
  {
   "cell_type": "code",
   "execution_count": 45,
   "id": "4635e232",
   "metadata": {},
   "outputs": [],
   "source": [
    "X = df_model.drop(['churn', 'customer_id', 'begin_date', 'end_date'], axis=1)\n",
    "y = df_model['churn']\n",
    "\n",
    "X_train, X_test, y_train, y_test = train_test_split(\n",
    "    X, y, test_size=0.2, random_state=12345, stratify=y\n",
    ") #stratify=y mantiene el mismo equilibrio de clases"
   ]
  },
  {
   "cell_type": "code",
   "execution_count": 46,
   "id": "8602b5bd",
   "metadata": {},
   "outputs": [],
   "source": [
    "# Concatenamos X_train y y_train\n",
    "train = pd.concat([X_train, y_train], axis=1)\n",
    "\n",
    "# Separar clases\n",
    "clase_mayoritaria = train[train.churn == 0]\n",
    "clase_minoritaria = train[train.churn == 1]\n",
    "\n",
    "# Re-muestrear la clase minoritaria para igualar la cantidad\n",
    "clase_minoritaria_upsampled = resample(clase_minoritaria,\n",
    "                                       replace=True,\n",
    "                                       n_samples=len(clase_mayoritaria),\n",
    "                                       random_state=12345)\n",
    "\n",
    "# Unir clases\n",
    "train_balanceado = pd.concat([clase_mayoritaria, clase_minoritaria_upsampled])\n",
    "\n",
    "# Nuevos X e y\n",
    "X_train_resampled = train_balanceado.drop('churn', axis=1)\n",
    "y_train_resampled = train_balanceado['churn']"
   ]
  },
  {
   "cell_type": "markdown",
   "id": "0ab138eb",
   "metadata": {},
   "source": [
    "# Modelos\n",
    " Entrenaremos el primer modelo base, el cual será Regresión Logistica.\n",
    " \n",
    " - Sirve como línea base para comparar con modelos más complejos después.\n",
    " - Es sensible al desbalance, por lo que usaremos `class_weight='balanced'` para compensar eso desde el inicio."
   ]
  },
  {
   "cell_type": "code",
   "execution_count": 47,
   "id": "880f9ee9",
   "metadata": {},
   "outputs": [
    {
     "name": "stdout",
     "output_type": "stream",
     "text": [
      " Classification Report (Logistic Regression - Baseline):\n",
      "              precision    recall  f1-score   support\n",
      "\n",
      "           0       0.91      0.71      0.80      1035\n",
      "           1       0.50      0.80      0.62       374\n",
      "\n",
      "    accuracy                           0.74      1409\n",
      "   macro avg       0.71      0.76      0.71      1409\n",
      "weighted avg       0.80      0.74      0.75      1409\n",
      "\n",
      " Confusion Matrix (Logistic Regression - Baseline):\n",
      "[[739 296]\n",
      " [ 75 299]]\n",
      " ROC AUC Score (Logistic Regression - Baseline):\n",
      "0.83\n"
     ]
    }
   ],
   "source": [
    "# Entrenamos el modelo\n",
    "model = LogisticRegression(max_iter=1000, class_weight='balanced', random_state=12345)\n",
    "model.fit(X_train_resampled, y_train_resampled)\n",
    "\n",
    "# Predicciones\n",
    "y_pred = model.predict(X_test)\n",
    "y_proba = model.predict_proba(X_test)[:, 1]  # Para métricas probabilísticas\n",
    "\n",
    "# Evaluación\n",
    "print(\" Classification Report (Logistic Regression - Baseline):\")\n",
    "print(classification_report(y_test, y_pred))\n",
    "\n",
    "print(\" Confusion Matrix (Logistic Regression - Baseline):\")\n",
    "print(confusion_matrix(y_test, y_pred))\n",
    "\n",
    "print(\" ROC AUC Score (Logistic Regression - Baseline):\")\n",
    "print(round(roc_auc_score(y_test, y_proba), 3))"
   ]
  },
  {
   "cell_type": "code",
   "execution_count": 48,
   "id": "a7b28881",
   "metadata": {},
   "outputs": [
    {
     "name": "stdout",
     "output_type": "stream",
     "text": [
      "\n",
      "-------------------- Random Forest -----------------\n",
      "Accuracy: 0.8133\n",
      "Matriz de confusión:\n",
      "[[910 125]\n",
      " [138 236]]\n",
      "Reporte de clasificación:\n",
      "              precision    recall  f1-score   support\n",
      "\n",
      "           0       0.87      0.88      0.87      1035\n",
      "           1       0.65      0.63      0.64       374\n",
      "\n",
      "    accuracy                           0.81      1409\n",
      "   macro avg       0.76      0.76      0.76      1409\n",
      "weighted avg       0.81      0.81      0.81      1409\n",
      "\n",
      "ROC AUC: 0.8592\n",
      "\n",
      "-------------------- XGBoost -----------------\n",
      "Accuracy: 0.8297\n",
      "Matriz de confusión:\n",
      "[[893 142]\n",
      " [ 98 276]]\n",
      "Reporte de clasificación:\n",
      "              precision    recall  f1-score   support\n",
      "\n",
      "           0       0.90      0.86      0.88      1035\n",
      "           1       0.66      0.74      0.70       374\n",
      "\n",
      "    accuracy                           0.83      1409\n",
      "   macro avg       0.78      0.80      0.79      1409\n",
      "weighted avg       0.84      0.83      0.83      1409\n",
      "\n",
      "ROC AUC: 0.8844\n",
      "\n",
      "-------------------- CatBoost -----------------\n",
      "Accuracy: 0.8219\n",
      "Matriz de confusión:\n",
      "[[866 169]\n",
      " [ 82 292]]\n",
      "Reporte de clasificación:\n",
      "              precision    recall  f1-score   support\n",
      "\n",
      "           0       0.91      0.84      0.87      1035\n",
      "           1       0.63      0.78      0.70       374\n",
      "\n",
      "    accuracy                           0.82      1409\n",
      "   macro avg       0.77      0.81      0.79      1409\n",
      "weighted avg       0.84      0.82      0.83      1409\n",
      "\n",
      "ROC AUC: 0.8915\n",
      "\n",
      "-------------------- LightGBM -----------------\n",
      "Accuracy: 0.8091\n",
      "Matriz de confusión:\n",
      "[[854 181]\n",
      " [ 88 286]]\n",
      "Reporte de clasificación:\n",
      "              precision    recall  f1-score   support\n",
      "\n",
      "           0       0.91      0.83      0.86      1035\n",
      "           1       0.61      0.76      0.68       374\n",
      "\n",
      "    accuracy                           0.81      1409\n",
      "   macro avg       0.76      0.79      0.77      1409\n",
      "weighted avg       0.83      0.81      0.82      1409\n",
      "\n",
      "ROC AUC: 0.8852\n"
     ]
    }
   ],
   "source": [
    "# Para este script, ya se escalaron df_model antes de X/y split y luego se resampleó.\n",
    "# Dado que 'df_model' ya fue escalado, X_train_resampled y X_test ya contienen los datos escalados.\n",
    "\n",
    "# Modelos\n",
    "\n",
    "#Random Forest\n",
    "rf = RandomForestClassifier(random_state=12345, class_weight='balanced') \n",
    "\n",
    "# XGBoost\n",
    "xgb = XGBClassifier(\n",
    "    use_label_encoder=False,\n",
    "    eval_metric='logloss',\n",
    "    random_state=12345,\n",
    "    scale_pos_weight=len(y_train_resampled[y_train_resampled==0])/len(y_train_resampled[y_train_resampled==1]) \n",
    ")\n",
    "\n",
    "# Catboost\n",
    "cat = CatBoostClassifier(verbose=0, random_state=12345, auto_class_weights='Balanced') \n",
    "\n",
    "# LightGBM\n",
    "lgbm = LGBMClassifier(random_state=12345, scale_pos_weight=len(y_train_resampled[y_train_resampled==0])/len(y_train_resampled[y_train_resampled==1])) \n",
    "\n",
    "# Función de evaluación\n",
    "def evaluar_modelo(nombre, modelo, X_train, y_train, X_test, y_test):\n",
    "    print(f\"\\n-------------------- {nombre} -----------------\")\n",
    "    modelo.fit(X_train, y_train)\n",
    "    y_pred = modelo.predict(X_test)\n",
    "    y_proba = modelo.predict_proba(X_test)[:, 1]\n",
    "\n",
    "    print(\"Accuracy:\", round(modelo.score(X_test, y_test), 4))\n",
    "    print(\"Matriz de confusión:\")\n",
    "    print(confusion_matrix(y_test, y_pred))\n",
    "    print(\"Reporte de clasificación:\")\n",
    "\n",
    "    #classification_report:\n",
    "    # proporciona un resumen de las principales métricas (precisión, recall, f1-score) para cada clase, y luego las agrega utilizando promedios.\n",
    "    print(classification_report(y_test, y_pred))\n",
    "    print(\"ROC AUC:\", round(roc_auc_score(y_test, y_proba), 4))\n",
    "\n",
    "# Evaluación de todos los modelos (con balanceo de clases)\n",
    "evaluar_modelo(\"Random Forest\", rf, X_train_resampled, y_train_resampled, X_test, y_test)\n",
    "evaluar_modelo(\"XGBoost\", xgb, X_train_resampled, y_train_resampled, X_test, y_test)\n",
    "evaluar_modelo(\"CatBoost\", cat, X_train_resampled, y_train_resampled, X_test, y_test)\n",
    "evaluar_modelo(\"LightGBM\", lgbm, X_train_resampled, y_train_resampled, X_test, y_test)"
   ]
  },
  {
   "cell_type": "markdown",
   "id": "e2de168f-58cd-4205-ab51-f838b2cce6a8",
   "metadata": {},
   "source": [
    "# Conclusión Previa\n",
    "\n",
    "Tras evaluar todos los modelos entrenados, se observó que CatBoost alcanzó el mejor desempeño general, con una métrica ROC AUC de 0.8915, superando el umbral requerido de 0.88. Además, logró un buen balance entre precisión (0.63), recall (0.78) y f1-score (0.70) para la clase positiva (clientes que cancelan), lo cual es clave para el objetivo del negocio.\n",
    "\n",
    "La matriz de confusión indica que el modelo clasificó correctamente a 866 de 1035 clientes que no cancelaron (clase 0), lo que representa una tasa de acierto del 83.7% en esta clase. En cuanto a los clientes que sí cancelaron (clase 1), identificó correctamente a 292 de 374, logrando una tasa de recall del 78.1%. Esto sugiere que el modelo tiene un buen desempeño tanto en detectar la permanencia como la cancelación, siendo especialmente útil para identificar clientes en riesgo de churn con un balance aceptable entre precisión y sensibilidad.\n",
    "\n",
    "Por tanto, CatBoost se selecciona como el modelo final, ya que ofrece una excelente capacidad predictiva para anticipar la cancelación de clientes."
   ]
  }
 ],
 "metadata": {
  "kernelspec": {
   "display_name": "Python 3 (ipykernel)",
   "language": "python",
   "name": "python3"
  },
  "language_info": {
   "codemirror_mode": {
    "name": "ipython",
    "version": 3
   },
   "file_extension": ".py",
   "mimetype": "text/x-python",
   "name": "python",
   "nbconvert_exporter": "python",
   "pygments_lexer": "ipython3",
   "version": "3.9.23"
  }
 },
 "nbformat": 4,
 "nbformat_minor": 5
}
